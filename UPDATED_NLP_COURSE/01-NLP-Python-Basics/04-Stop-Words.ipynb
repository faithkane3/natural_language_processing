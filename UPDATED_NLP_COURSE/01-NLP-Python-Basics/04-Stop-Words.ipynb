{
 "cells": [
  {
   "cell_type": "markdown",
   "metadata": {},
   "source": [
    "___\n",
    "\n",
    "<a href='http://www.pieriandata.com'> <img src='../Pierian_Data_Logo.png' /></a>\n",
    "___"
   ]
  },
  {
   "cell_type": "markdown",
   "metadata": {},
   "source": [
    "# Stop Words\n",
    "Words like \"a\" and \"the\" appear so frequently that they don't require tagging as thoroughly as nouns, verbs and modifiers. We call these *stop words*, and they can be filtered from the text to be processed. spaCy holds a built-in list of some 305 English stop words."
   ]
  },
  {
   "cell_type": "code",
   "execution_count": 1,
   "metadata": {},
   "outputs": [],
   "source": [
    "# Perform standard imports:\n",
    "import spacy\n",
    "nlp = spacy.load('en_core_web_sm')"
   ]
  },
  {
   "cell_type": "code",
   "execution_count": 2,
   "metadata": {
    "scrolled": true
   },
   "outputs": [
    {
     "name": "stdout",
     "output_type": "stream",
     "text": [
      "{'beyond', 'ca', 'below', 'may', 'something', 'that', 'via', 'were', 'still', 'elsewhere', 'was', 'much', 'because', 'it', 'whoever', 'am', 'are', 'toward', 'together', 'we', 'regarding', 'call', 'without', 'others', 'twelve', 'between', 'and', 'fifteen', 'upon', 'now', 'namely', 'whenever', 'using', 'onto', 'down', 'perhaps', 'in', 'alone', 'whereafter', 'whether', 'please', 'serious', 'itself', 'see', 'someone', 'several', 'any', 'former', 'everywhere', 'became', 'hereupon', 'somewhere', 'done', 'further', 'seems', 'same', 'beforehand', 'mostly', 'none', 'being', 'though', 'almost', 'hundred', 'she', 'might', 'whom', 'through', 'around', 'whereas', 'all', 'those', 'amount', 'however', 'say', 'ten', 'another', 'move', 'thence', 'where', 'her', 'never', 'yourselves', 'did', 'formerly', 'everything', 'few', 'least', 'due', 'either', 'so', 'three', 'thereupon', 'third', 'some', 'their', 'beside', 'top', 'does', 'themselves', 'show', 'anything', 'mine', 'for', 'noone', 'often', 'other', 'at', 'can', 'no', 'becoming', 'ever', 'meanwhile', 'they', 'unless', 'used', 'behind', 'then', 'therefore', 'very', 'whatever', 'hereby', 'eleven', 're', 'whose', 'throughout', 'to', 'while', 'across', 'these', 'whereby', 'one', 'anywhere', 'per', 'than', 'been', 'anyway', 'when', 'nobody', 'nothing', 'already', 'has', 'go', 'six', 'up', 'will', 'me', 'once', 'us', 'should', 'seeming', 'an', 'must', 'herself', 'before', 'except', 'two', 'every', 'on', 'your', 'front', 'thereby', 'anyhow', 'hereafter', 'as', 'too', 'how', 'next', 'among', 'have', 'afterwards', 'anyone', 'doing', 'after', 'herein', 'hers', 'else', 'wherever', 'within', 'be', 'is', 'a', 'nevertheless', 'bottom', 'becomes', 'just', 'nowhere', 'thereafter', 'ourselves', 'various', 'less', 'not', 'many', 'the', 'sometime', 'more', 'take', 'put', 'besides', 'nor', 'both', 'make', 'otherwise', 'whereupon', 'above', 'own', 'rather', 'hence', 'back', 'moreover', 'along', 'with', 'each', 'four', 'if', 'why', 'forty', 'off', 'yourself', 'get', 'its', 'thus', 'fifty', 'seem', 'this', 'really', 'do', 'everyone', 'our', 'quite', 'from', 'about', 'could', 'or', 'give', 'neither', 'empty', 'therein', 'what', 'wherein', 'cannot', 'during', 'into', 'nine', 'under', 'also', 'yet', 'yours', 'latter', 'even', 'since', 'side', 'whence', 'although', 'by', 'such', 'name', 'ours', 'until', 'you', 'of', 'had', 'his', 'last', 'my', 'thru', 'always', 'eight', 'i', 'sixty', 'against', 'become', 'myself', 'sometimes', 'whole', 'made', 'over', 'most', 'five', 'indeed', 'there', 'amongst', 'which', 'here', 'well', 'whither', 'him', 'twenty', 'again', 'first', 'latterly', 'out', 'keep', 'who', 'somehow', 'he', 'only', 'them', 'himself', 'enough', 'would', 'part', 'full', 'towards', 'but', 'seemed'}\n"
     ]
    }
   ],
   "source": [
    "# Print the set of spaCy's default stop words (remember that sets are unordered):\n",
    "print(nlp.Defaults.stop_words)"
   ]
  },
  {
   "cell_type": "code",
   "execution_count": 3,
   "metadata": {},
   "outputs": [
    {
     "data": {
      "text/plain": [
       "305"
      ]
     },
     "execution_count": 3,
     "metadata": {},
     "output_type": "execute_result"
    }
   ],
   "source": [
    "len(nlp.Defaults.stop_words)"
   ]
  },
  {
   "cell_type": "markdown",
   "metadata": {},
   "source": [
    "## To see if a word is a stop word"
   ]
  },
  {
   "cell_type": "code",
   "execution_count": 4,
   "metadata": {},
   "outputs": [
    {
     "data": {
      "text/plain": [
       "True"
      ]
     },
     "execution_count": 4,
     "metadata": {},
     "output_type": "execute_result"
    }
   ],
   "source": [
    "nlp.vocab['myself'].is_stop"
   ]
  },
  {
   "cell_type": "code",
   "execution_count": 5,
   "metadata": {},
   "outputs": [
    {
     "data": {
      "text/plain": [
       "False"
      ]
     },
     "execution_count": 5,
     "metadata": {},
     "output_type": "execute_result"
    }
   ],
   "source": [
    "nlp.vocab['mystery'].is_stop"
   ]
  },
  {
   "cell_type": "markdown",
   "metadata": {},
   "source": [
    "## To add a stop word\n",
    "There may be times when you wish to add a stop word to the default set. Perhaps you decide that `'btw'` (common shorthand for \"by the way\") should be considered a stop word."
   ]
  },
  {
   "cell_type": "code",
   "execution_count": 6,
   "metadata": {},
   "outputs": [],
   "source": [
    "# Add the word to the set of stop words. Use lowercase!\n",
    "nlp.Defaults.stop_words.add('btw')\n",
    "\n",
    "# Set the stop_word tag on the lexeme\n",
    "nlp.vocab['btw'].is_stop = True"
   ]
  },
  {
   "cell_type": "code",
   "execution_count": 7,
   "metadata": {},
   "outputs": [
    {
     "data": {
      "text/plain": [
       "306"
      ]
     },
     "execution_count": 7,
     "metadata": {},
     "output_type": "execute_result"
    }
   ],
   "source": [
    "len(nlp.Defaults.stop_words)"
   ]
  },
  {
   "cell_type": "code",
   "execution_count": 8,
   "metadata": {},
   "outputs": [
    {
     "data": {
      "text/plain": [
       "True"
      ]
     },
     "execution_count": 8,
     "metadata": {},
     "output_type": "execute_result"
    }
   ],
   "source": [
    "nlp.vocab['btw'].is_stop"
   ]
  },
  {
   "cell_type": "markdown",
   "metadata": {},
   "source": [
    "<font color=green>When adding stop words, always use lowercase. Lexemes are converted to lowercase before being added to **vocab**.</font>"
   ]
  },
  {
   "cell_type": "markdown",
   "metadata": {},
   "source": [
    "## To remove a stop word\n",
    "Alternatively, you may decide that `'beyond'` should not be considered a stop word."
   ]
  },
  {
   "cell_type": "code",
   "execution_count": 9,
   "metadata": {},
   "outputs": [],
   "source": [
    "# Remove the word from the set of stop words\n",
    "nlp.Defaults.stop_words.remove('beyond')\n",
    "\n",
    "# Remove the stop_word tag from the lexeme\n",
    "nlp.vocab['beyond'].is_stop = False"
   ]
  },
  {
   "cell_type": "code",
   "execution_count": 10,
   "metadata": {},
   "outputs": [
    {
     "data": {
      "text/plain": [
       "305"
      ]
     },
     "execution_count": 10,
     "metadata": {},
     "output_type": "execute_result"
    }
   ],
   "source": [
    "len(nlp.Defaults.stop_words)"
   ]
  },
  {
   "cell_type": "code",
   "execution_count": 11,
   "metadata": {},
   "outputs": [
    {
     "data": {
      "text/plain": [
       "False"
      ]
     },
     "execution_count": 11,
     "metadata": {},
     "output_type": "execute_result"
    }
   ],
   "source": [
    "nlp.vocab['beyond'].is_stop"
   ]
  },
  {
   "cell_type": "markdown",
   "metadata": {},
   "source": [
    "Great! Now you should be able to access spaCy's default set of stop words, and add or remove stop words as needed.\n",
    "## Next up: Vocabulary and Matching"
   ]
  }
 ],
 "metadata": {
  "kernelspec": {
   "display_name": "Python 3",
   "language": "python",
   "name": "python3"
  },
  "language_info": {
   "codemirror_mode": {
    "name": "ipython",
    "version": 3
   },
   "file_extension": ".py",
   "mimetype": "text/x-python",
   "name": "python",
   "nbconvert_exporter": "python",
   "pygments_lexer": "ipython3",
   "version": "3.7.5"
  },
  "toc": {
   "base_numbering": 1,
   "nav_menu": {},
   "number_sections": true,
   "sideBar": true,
   "skip_h1_title": false,
   "title_cell": "Table of Contents",
   "title_sidebar": "Contents",
   "toc_cell": false,
   "toc_position": {},
   "toc_section_display": true,
   "toc_window_display": false
  }
 },
 "nbformat": 4,
 "nbformat_minor": 2
}
